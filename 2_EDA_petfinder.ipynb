{
 "cells": [
  {
   "cell_type": "markdown",
   "metadata": {
    "papermill": {
     "duration": 0.018781,
     "end_time": "2021-11-13T13:12:40.386050",
     "exception": false,
     "start_time": "2021-11-13T13:12:40.367269",
     "status": "completed"
    },
    "tags": []
   },
   "source": [
    "Formation OpenClassrooms DS-IML - **Marc Lefèvre**, <marc.lefevre@noos.fr>"
   ]
  },
  {
   "cell_type": "markdown",
   "metadata": {
    "papermill": {
     "duration": 0.016188,
     "end_time": "2021-11-13T13:12:40.422091",
     "exception": false,
     "start_time": "2021-11-13T13:12:40.405903",
     "status": "completed"
    },
    "tags": []
   },
   "source": [
    " "
   ]
  },
  {
   "cell_type": "markdown",
   "metadata": {
    "papermill": {
     "duration": 0.022897,
     "end_time": "2021-11-13T13:12:40.461810",
     "exception": false,
     "start_time": "2021-11-13T13:12:40.438913",
     "status": "completed"
    },
    "tags": []
   },
   "source": [
    " "
   ]
  },
  {
   "cell_type": "markdown",
   "metadata": {
    "papermill": {
     "duration": 0.019709,
     "end_time": "2021-11-13T13:12:40.498661",
     "exception": false,
     "start_time": "2021-11-13T13:12:40.478952",
     "status": "completed"
    },
    "tags": []
   },
   "source": [
    "# **Projet 8 : Petfinder.my Pawpularity Contest**"
   ]
  },
  {
   "cell_type": "markdown",
   "metadata": {
    "papermill": {
     "duration": 0.016716,
     "end_time": "2021-11-13T13:12:40.533228",
     "exception": false,
     "start_time": "2021-11-13T13:12:40.516512",
     "status": "completed"
    },
    "tags": []
   },
   "source": [
    " "
   ]
  },
  {
   "cell_type": "markdown",
   "metadata": {
    "papermill": {
     "duration": 0.01859,
     "end_time": "2021-11-13T13:12:40.569581",
     "exception": false,
     "start_time": "2021-11-13T13:12:40.550991",
     "status": "completed"
    },
    "tags": []
   },
   "source": [
    " "
   ]
  },
  {
   "cell_type": "markdown",
   "metadata": {
    "papermill": {
     "duration": 0.016449,
     "end_time": "2021-11-13T13:12:40.603346",
     "exception": false,
     "start_time": "2021-11-13T13:12:40.586897",
     "status": "completed"
    },
    "tags": []
   },
   "source": [
    "## **Exploration des données**"
   ]
  },
  {
   "cell_type": "markdown",
   "metadata": {},
   "source": [
    " "
   ]
  },
  {
   "cell_type": "markdown",
   "metadata": {},
   "source": [
    "Ce notebook vous propose une rapide exploration des données du concours, ainsi qu'une explication de certains choix qui en ont découlé."
   ]
  },
  {
   "cell_type": "markdown",
   "metadata": {
    "papermill": {
     "duration": 0.01622,
     "end_time": "2021-11-13T13:12:40.636218",
     "exception": false,
     "start_time": "2021-11-13T13:12:40.619998",
     "status": "completed"
    },
    "tags": []
   },
   "source": [
    " "
   ]
  },
  {
   "cell_type": "markdown",
   "metadata": {
    "papermill": {
     "duration": 0.017982,
     "end_time": "2021-11-13T13:12:52.270135",
     "exception": false,
     "start_time": "2021-11-13T13:12:52.252153",
     "status": "completed"
    },
    "tags": []
   },
   "source": [
    "**Importations python**"
   ]
  },
  {
   "cell_type": "code",
   "execution_count": 4,
   "metadata": {
    "_cell_guid": "b1076dfc-b9ad-4769-8c92-a6c4dae69d19",
    "_uuid": "8f2839f25d086af736a60e9eeb907d3b93b6e0e5",
    "execution": {
     "iopub.execute_input": "2021-11-13T13:12:52.312021Z",
     "iopub.status.busy": "2021-11-13T13:12:52.311311Z",
     "iopub.status.idle": "2021-11-13T13:12:54.479601Z",
     "shell.execute_reply": "2021-11-13T13:12:54.480194Z",
     "shell.execute_reply.started": "2021-11-13T13:03:01.851354Z"
    },
    "papermill": {
     "duration": 2.19205,
     "end_time": "2021-11-13T13:12:54.480378",
     "exception": false,
     "start_time": "2021-11-13T13:12:52.288328",
     "status": "completed"
    },
    "tags": []
   },
   "outputs": [],
   "source": [
    "import os\n",
    "import numpy as np\n",
    "import pandas as pd\n",
    "import matplotlib.pyplot as plt\n",
    "import cv2\n",
    "import random\n",
    "import imgaug.augmenters as iaa\n",
    "import shutil\n",
    "\n",
    "from time import time\n",
    "from glob import glob\n",
    "from PIL import Image"
   ]
  },
  {
   "cell_type": "markdown",
   "metadata": {},
   "source": [
    "**Définition de constantes**"
   ]
  },
  {
   "cell_type": "code",
   "execution_count": null,
   "metadata": {
    "execution": {
     "iopub.execute_input": "2021-11-13T13:12:54.520784Z",
     "iopub.status.busy": "2021-11-13T13:12:54.520139Z",
     "iopub.status.idle": "2021-11-13T13:12:54.523460Z",
     "shell.execute_reply": "2021-11-13T13:12:54.524031Z",
     "shell.execute_reply.started": "2021-11-13T13:03:12.591292Z"
    },
    "papermill": {
     "duration": 0.02502,
     "end_time": "2021-11-13T13:12:54.524198",
     "exception": false,
     "start_time": "2021-11-13T13:12:54.499178",
     "status": "completed"
    },
    "tags": []
   },
   "outputs": [],
   "source": [
    "INPUT = \"/kaggle/input/petfinder-pawpularity-score/\"\n",
    "TRAIN = \"/kaggle/input/petfinder-pawpularity-score/train\"\n",
    "TEST = \"/kaggle/input/petfinder-pawpularity-score/test\"\n",
    "OUT = \"/kaggle/working/\""
   ]
  },
  {
   "cell_type": "markdown",
   "metadata": {
    "papermill": {
     "duration": 0.017864,
     "end_time": "2021-11-13T13:12:54.560677",
     "exception": false,
     "start_time": "2021-11-13T13:12:54.542813",
     "status": "completed"
    },
    "tags": []
   },
   "source": [
    "**Fonction d'analyse des données**<br>Grâce à elle, nous construisons un dataframe regroupant les informations susceptibles de nous intéresser sur le dataset du concours."
   ]
  },
  {
   "cell_type": "code",
   "execution_count": 5,
   "metadata": {
    "execution": {
     "iopub.execute_input": "2021-11-13T13:12:54.607166Z",
     "iopub.status.busy": "2021-11-13T13:12:54.599931Z",
     "iopub.status.idle": "2021-11-13T13:12:54.609744Z",
     "shell.execute_reply": "2021-11-13T13:12:54.609199Z",
     "shell.execute_reply.started": "2021-11-13T13:05:19.946182Z"
    },
    "papermill": {
     "duration": 0.030992,
     "end_time": "2021-11-13T13:12:54.609875",
     "exception": false,
     "start_time": "2021-11-13T13:12:54.578883",
     "status": "completed"
    },
    "tags": []
   },
   "outputs": [],
   "source": [
    "def analyse_data(name, input_dir=INPUT, pics_dir=TRAIN):\n",
    "\n",
    "    start = time()\n",
    "\n",
    "    df_data = pd.read_csv(input_dir + name)\n",
    "    train_pics = glob(pics_dir + \"/*\")\n",
    "\n",
    "    dico = {}\n",
    "\n",
    "    for file in train_pics:\n",
    "\n",
    "        with Image.open(file) as img:\n",
    "\n",
    "            id = file.split(\"/\")[-1].split(\".\")[0]\n",
    "            image_name = file.split(\"/\")[-1]\n",
    "            dico[id] = (file, image_name, img.size,\n",
    "                        img.size[0], img.size[1], img.mode)\n",
    "\n",
    "    df = pd.DataFrame.from_dict(dico, orient='index',\n",
    "                                columns=[\"chemin\", \"nom\", \"taille\",\n",
    "                                         \"longueur\", \"hauteur\", \"mode\"])\n",
    "\n",
    "    df = df.rename_axis('Id').reset_index()\n",
    "\n",
    "    df = df.merge(df_data, left_on=\"Id\", right_on=\"Id\")\n",
    "\n",
    "    return df"
   ]
  },
  {
   "cell_type": "markdown",
   "metadata": {},
   "source": [
    " "
   ]
  },
  {
   "cell_type": "markdown",
   "metadata": {},
   "source": [
    "**Analyse**"
   ]
  },
  {
   "cell_type": "code",
   "execution_count": 6,
   "metadata": {
    "execution": {
     "iopub.execute_input": "2021-11-13T13:12:54.651260Z",
     "iopub.status.busy": "2021-11-13T13:12:54.650648Z",
     "iopub.status.idle": "2021-11-13T13:13:36.729567Z",
     "shell.execute_reply": "2021-11-13T13:13:36.730090Z",
     "shell.execute_reply.started": "2021-11-13T13:05:31.432656Z"
    },
    "papermill": {
     "duration": 42.101948,
     "end_time": "2021-11-13T13:13:36.730256",
     "exception": false,
     "start_time": "2021-11-13T13:12:54.628308",
     "status": "completed"
    },
    "tags": []
   },
   "outputs": [
    {
     "data": {
      "text/html": [
       "<div>\n",
       "<style scoped>\n",
       "    .dataframe tbody tr th:only-of-type {\n",
       "        vertical-align: middle;\n",
       "    }\n",
       "\n",
       "    .dataframe tbody tr th {\n",
       "        vertical-align: top;\n",
       "    }\n",
       "\n",
       "    .dataframe thead th {\n",
       "        text-align: right;\n",
       "    }\n",
       "</style>\n",
       "<table border=\"1\" class=\"dataframe\">\n",
       "  <thead>\n",
       "    <tr style=\"text-align: right;\">\n",
       "      <th></th>\n",
       "      <th>Id</th>\n",
       "      <th>chemin</th>\n",
       "      <th>nom</th>\n",
       "      <th>taille</th>\n",
       "      <th>longueur</th>\n",
       "      <th>hauteur</th>\n",
       "      <th>mode</th>\n",
       "      <th>Subject Focus</th>\n",
       "      <th>Eyes</th>\n",
       "      <th>Face</th>\n",
       "      <th>Near</th>\n",
       "      <th>Action</th>\n",
       "      <th>Accessory</th>\n",
       "      <th>Group</th>\n",
       "      <th>Collage</th>\n",
       "      <th>Human</th>\n",
       "      <th>Occlusion</th>\n",
       "      <th>Info</th>\n",
       "      <th>Blur</th>\n",
       "      <th>Pawpularity</th>\n",
       "    </tr>\n",
       "  </thead>\n",
       "  <tbody>\n",
       "    <tr>\n",
       "      <th>0</th>\n",
       "      <td>7954ebb5c90d9618e34959df0ad5f062</td>\n",
       "      <td>/kaggle/input/petfinder-pawpularity-score/trai...</td>\n",
       "      <td>7954ebb5c90d9618e34959df0ad5f062.jpg</td>\n",
       "      <td>(720, 960)</td>\n",
       "      <td>720</td>\n",
       "      <td>960</td>\n",
       "      <td>RGB</td>\n",
       "      <td>0</td>\n",
       "      <td>1</td>\n",
       "      <td>1</td>\n",
       "      <td>1</td>\n",
       "      <td>0</td>\n",
       "      <td>0</td>\n",
       "      <td>0</td>\n",
       "      <td>0</td>\n",
       "      <td>0</td>\n",
       "      <td>0</td>\n",
       "      <td>0</td>\n",
       "      <td>0</td>\n",
       "      <td>38</td>\n",
       "    </tr>\n",
       "  </tbody>\n",
       "</table>\n",
       "</div>"
      ],
      "text/plain": [
       "                                 Id  \\\n",
       "0  7954ebb5c90d9618e34959df0ad5f062   \n",
       "\n",
       "                                              chemin  \\\n",
       "0  /kaggle/input/petfinder-pawpularity-score/trai...   \n",
       "\n",
       "                                    nom      taille  longueur  hauteur mode  \\\n",
       "0  7954ebb5c90d9618e34959df0ad5f062.jpg  (720, 960)       720      960  RGB   \n",
       "\n",
       "   Subject Focus  Eyes  Face  Near  Action  Accessory  Group  Collage  Human  \\\n",
       "0              0     1     1     1       0          0      0        0      0   \n",
       "\n",
       "   Occlusion  Info  Blur  Pawpularity  \n",
       "0          0     0     0           38  "
      ]
     },
     "execution_count": 6,
     "metadata": {},
     "output_type": "execute_result"
    }
   ],
   "source": [
    "df = analyse_data(\"train.csv\")\n",
    "df.head(1)"
   ]
  },
  {
   "cell_type": "markdown",
   "metadata": {},
   "source": [
    " "
   ]
  },
  {
   "cell_type": "code",
   "execution_count": 7,
   "metadata": {
    "execution": {
     "iopub.execute_input": "2021-11-13T13:13:36.780317Z",
     "iopub.status.busy": "2021-11-13T13:13:36.779642Z",
     "iopub.status.idle": "2021-11-13T13:13:36.793104Z",
     "shell.execute_reply": "2021-11-13T13:13:36.793602Z",
     "shell.execute_reply.started": "2021-11-13T13:06:17.358301Z"
    },
    "papermill": {
     "duration": 0.04475,
     "end_time": "2021-11-13T13:13:36.793797",
     "exception": false,
     "start_time": "2021-11-13T13:13:36.749047",
     "status": "completed"
    },
    "tags": []
   },
   "outputs": [
    {
     "name": "stdout",
     "output_type": "stream",
     "text": [
      "<class 'pandas.core.frame.DataFrame'>\n",
      "Int64Index: 9912 entries, 0 to 9911\n",
      "Data columns (total 20 columns):\n",
      " #   Column         Non-Null Count  Dtype \n",
      "---  ------         --------------  ----- \n",
      " 0   Id             9912 non-null   object\n",
      " 1   chemin         9912 non-null   object\n",
      " 2   nom            9912 non-null   object\n",
      " 3   taille         9912 non-null   object\n",
      " 4   longueur       9912 non-null   int64 \n",
      " 5   hauteur        9912 non-null   int64 \n",
      " 6   mode           9912 non-null   object\n",
      " 7   Subject Focus  9912 non-null   int64 \n",
      " 8   Eyes           9912 non-null   int64 \n",
      " 9   Face           9912 non-null   int64 \n",
      " 10  Near           9912 non-null   int64 \n",
      " 11  Action         9912 non-null   int64 \n",
      " 12  Accessory      9912 non-null   int64 \n",
      " 13  Group          9912 non-null   int64 \n",
      " 14  Collage        9912 non-null   int64 \n",
      " 15  Human          9912 non-null   int64 \n",
      " 16  Occlusion      9912 non-null   int64 \n",
      " 17  Info           9912 non-null   int64 \n",
      " 18  Blur           9912 non-null   int64 \n",
      " 19  Pawpularity    9912 non-null   int64 \n",
      "dtypes: int64(15), object(5)\n",
      "memory usage: 1.6+ MB\n"
     ]
    }
   ],
   "source": [
    "df.info()"
   ]
  },
  {
   "cell_type": "markdown",
   "metadata": {
    "papermill": {
     "duration": 0.019165,
     "end_time": "2021-11-13T13:13:36.833433",
     "exception": false,
     "start_time": "2021-11-13T13:13:36.814268",
     "status": "completed"
    },
    "tags": []
   },
   "source": [
    "Nous voyons ici qu'il n'y a pas de données manquantes."
   ]
  },
  {
   "cell_type": "markdown",
   "metadata": {},
   "source": [
    " "
   ]
  },
  {
   "cell_type": "code",
   "execution_count": 8,
   "metadata": {
    "execution": {
     "iopub.execute_input": "2021-11-13T13:13:36.875035Z",
     "iopub.status.busy": "2021-11-13T13:13:36.874321Z",
     "iopub.status.idle": "2021-11-13T13:13:36.931389Z",
     "shell.execute_reply": "2021-11-13T13:13:36.931914Z",
     "shell.execute_reply.started": "2021-11-13T13:06:17.386865Z"
    },
    "papermill": {
     "duration": 0.079581,
     "end_time": "2021-11-13T13:13:36.932089",
     "exception": false,
     "start_time": "2021-11-13T13:13:36.852508",
     "status": "completed"
    },
    "tags": []
   },
   "outputs": [
    {
     "data": {
      "text/html": [
       "<div>\n",
       "<style scoped>\n",
       "    .dataframe tbody tr th:only-of-type {\n",
       "        vertical-align: middle;\n",
       "    }\n",
       "\n",
       "    .dataframe tbody tr th {\n",
       "        vertical-align: top;\n",
       "    }\n",
       "\n",
       "    .dataframe thead th {\n",
       "        text-align: right;\n",
       "    }\n",
       "</style>\n",
       "<table border=\"1\" class=\"dataframe\">\n",
       "  <thead>\n",
       "    <tr style=\"text-align: right;\">\n",
       "      <th></th>\n",
       "      <th>longueur</th>\n",
       "      <th>hauteur</th>\n",
       "      <th>Subject Focus</th>\n",
       "      <th>Eyes</th>\n",
       "      <th>Face</th>\n",
       "      <th>Near</th>\n",
       "      <th>Action</th>\n",
       "      <th>Accessory</th>\n",
       "      <th>Group</th>\n",
       "      <th>Collage</th>\n",
       "      <th>Human</th>\n",
       "      <th>Occlusion</th>\n",
       "      <th>Info</th>\n",
       "      <th>Blur</th>\n",
       "      <th>Pawpularity</th>\n",
       "    </tr>\n",
       "  </thead>\n",
       "  <tbody>\n",
       "    <tr>\n",
       "      <th>count</th>\n",
       "      <td>9912.000000</td>\n",
       "      <td>9912.000000</td>\n",
       "      <td>9912.000000</td>\n",
       "      <td>9912.000000</td>\n",
       "      <td>9912.000000</td>\n",
       "      <td>9912.000000</td>\n",
       "      <td>9912.000000</td>\n",
       "      <td>9912.000000</td>\n",
       "      <td>9912.000000</td>\n",
       "      <td>9912.000000</td>\n",
       "      <td>9912.000000</td>\n",
       "      <td>9912.000000</td>\n",
       "      <td>9912.000000</td>\n",
       "      <td>9912.000000</td>\n",
       "      <td>9912.000000</td>\n",
       "    </tr>\n",
       "    <tr>\n",
       "      <th>mean</th>\n",
       "      <td>804.426251</td>\n",
       "      <td>904.284302</td>\n",
       "      <td>0.027643</td>\n",
       "      <td>0.772599</td>\n",
       "      <td>0.903955</td>\n",
       "      <td>0.861582</td>\n",
       "      <td>0.009988</td>\n",
       "      <td>0.067797</td>\n",
       "      <td>0.129338</td>\n",
       "      <td>0.049637</td>\n",
       "      <td>0.166263</td>\n",
       "      <td>0.172014</td>\n",
       "      <td>0.061239</td>\n",
       "      <td>0.070420</td>\n",
       "      <td>38.039044</td>\n",
       "    </tr>\n",
       "    <tr>\n",
       "      <th>std</th>\n",
       "      <td>270.211921</td>\n",
       "      <td>156.905980</td>\n",
       "      <td>0.163957</td>\n",
       "      <td>0.419175</td>\n",
       "      <td>0.294668</td>\n",
       "      <td>0.345356</td>\n",
       "      <td>0.099444</td>\n",
       "      <td>0.251409</td>\n",
       "      <td>0.335591</td>\n",
       "      <td>0.217204</td>\n",
       "      <td>0.372335</td>\n",
       "      <td>0.377411</td>\n",
       "      <td>0.239780</td>\n",
       "      <td>0.255866</td>\n",
       "      <td>20.591990</td>\n",
       "    </tr>\n",
       "    <tr>\n",
       "      <th>min</th>\n",
       "      <td>90.000000</td>\n",
       "      <td>113.000000</td>\n",
       "      <td>0.000000</td>\n",
       "      <td>0.000000</td>\n",
       "      <td>0.000000</td>\n",
       "      <td>0.000000</td>\n",
       "      <td>0.000000</td>\n",
       "      <td>0.000000</td>\n",
       "      <td>0.000000</td>\n",
       "      <td>0.000000</td>\n",
       "      <td>0.000000</td>\n",
       "      <td>0.000000</td>\n",
       "      <td>0.000000</td>\n",
       "      <td>0.000000</td>\n",
       "      <td>1.000000</td>\n",
       "    </tr>\n",
       "    <tr>\n",
       "      <th>25%</th>\n",
       "      <td>675.000000</td>\n",
       "      <td>908.750000</td>\n",
       "      <td>0.000000</td>\n",
       "      <td>1.000000</td>\n",
       "      <td>1.000000</td>\n",
       "      <td>1.000000</td>\n",
       "      <td>0.000000</td>\n",
       "      <td>0.000000</td>\n",
       "      <td>0.000000</td>\n",
       "      <td>0.000000</td>\n",
       "      <td>0.000000</td>\n",
       "      <td>0.000000</td>\n",
       "      <td>0.000000</td>\n",
       "      <td>0.000000</td>\n",
       "      <td>25.000000</td>\n",
       "    </tr>\n",
       "    <tr>\n",
       "      <th>50%</th>\n",
       "      <td>720.000000</td>\n",
       "      <td>960.000000</td>\n",
       "      <td>0.000000</td>\n",
       "      <td>1.000000</td>\n",
       "      <td>1.000000</td>\n",
       "      <td>1.000000</td>\n",
       "      <td>0.000000</td>\n",
       "      <td>0.000000</td>\n",
       "      <td>0.000000</td>\n",
       "      <td>0.000000</td>\n",
       "      <td>0.000000</td>\n",
       "      <td>0.000000</td>\n",
       "      <td>0.000000</td>\n",
       "      <td>0.000000</td>\n",
       "      <td>33.000000</td>\n",
       "    </tr>\n",
       "    <tr>\n",
       "      <th>75%</th>\n",
       "      <td>960.000000</td>\n",
       "      <td>960.000000</td>\n",
       "      <td>0.000000</td>\n",
       "      <td>1.000000</td>\n",
       "      <td>1.000000</td>\n",
       "      <td>1.000000</td>\n",
       "      <td>0.000000</td>\n",
       "      <td>0.000000</td>\n",
       "      <td>0.000000</td>\n",
       "      <td>0.000000</td>\n",
       "      <td>0.000000</td>\n",
       "      <td>0.000000</td>\n",
       "      <td>0.000000</td>\n",
       "      <td>0.000000</td>\n",
       "      <td>46.000000</td>\n",
       "    </tr>\n",
       "    <tr>\n",
       "      <th>max</th>\n",
       "      <td>1280.000000</td>\n",
       "      <td>1280.000000</td>\n",
       "      <td>1.000000</td>\n",
       "      <td>1.000000</td>\n",
       "      <td>1.000000</td>\n",
       "      <td>1.000000</td>\n",
       "      <td>1.000000</td>\n",
       "      <td>1.000000</td>\n",
       "      <td>1.000000</td>\n",
       "      <td>1.000000</td>\n",
       "      <td>1.000000</td>\n",
       "      <td>1.000000</td>\n",
       "      <td>1.000000</td>\n",
       "      <td>1.000000</td>\n",
       "      <td>100.000000</td>\n",
       "    </tr>\n",
       "  </tbody>\n",
       "</table>\n",
       "</div>"
      ],
      "text/plain": [
       "          longueur      hauteur  Subject Focus         Eyes         Face  \\\n",
       "count  9912.000000  9912.000000    9912.000000  9912.000000  9912.000000   \n",
       "mean    804.426251   904.284302       0.027643     0.772599     0.903955   \n",
       "std     270.211921   156.905980       0.163957     0.419175     0.294668   \n",
       "min      90.000000   113.000000       0.000000     0.000000     0.000000   \n",
       "25%     675.000000   908.750000       0.000000     1.000000     1.000000   \n",
       "50%     720.000000   960.000000       0.000000     1.000000     1.000000   \n",
       "75%     960.000000   960.000000       0.000000     1.000000     1.000000   \n",
       "max    1280.000000  1280.000000       1.000000     1.000000     1.000000   \n",
       "\n",
       "              Near       Action    Accessory        Group      Collage  \\\n",
       "count  9912.000000  9912.000000  9912.000000  9912.000000  9912.000000   \n",
       "mean      0.861582     0.009988     0.067797     0.129338     0.049637   \n",
       "std       0.345356     0.099444     0.251409     0.335591     0.217204   \n",
       "min       0.000000     0.000000     0.000000     0.000000     0.000000   \n",
       "25%       1.000000     0.000000     0.000000     0.000000     0.000000   \n",
       "50%       1.000000     0.000000     0.000000     0.000000     0.000000   \n",
       "75%       1.000000     0.000000     0.000000     0.000000     0.000000   \n",
       "max       1.000000     1.000000     1.000000     1.000000     1.000000   \n",
       "\n",
       "             Human    Occlusion         Info         Blur  Pawpularity  \n",
       "count  9912.000000  9912.000000  9912.000000  9912.000000  9912.000000  \n",
       "mean      0.166263     0.172014     0.061239     0.070420    38.039044  \n",
       "std       0.372335     0.377411     0.239780     0.255866    20.591990  \n",
       "min       0.000000     0.000000     0.000000     0.000000     1.000000  \n",
       "25%       0.000000     0.000000     0.000000     0.000000    25.000000  \n",
       "50%       0.000000     0.000000     0.000000     0.000000    33.000000  \n",
       "75%       0.000000     0.000000     0.000000     0.000000    46.000000  \n",
       "max       1.000000     1.000000     1.000000     1.000000   100.000000  "
      ]
     },
     "execution_count": 8,
     "metadata": {},
     "output_type": "execute_result"
    }
   ],
   "source": [
    "df.describe()"
   ]
  },
  {
   "cell_type": "markdown",
   "metadata": {},
   "source": [
    "Il ne semble pas non plus y avoir de données erronées.<br><br>En observant les variables \"longueur\" et \"hauteur\" on peut voir que la taille des photos varie beaucoup. Plus particulièrement que certaines photos sont très \"petites\", ce qui pourrait nuire à leur \"pawpularity\". De même, certaines photos sont peut-être très \"allongées\" du fait d'avoir été prise avec un smartphone, ce qui peut également diminuer leur impact.<br><br>Nous décidons donc de procéder à un peu de **feature engineering**, à savoir que nous ajouterons deux nouvelles **features** à nos métadata, une variable rendant compte du ratio des images, et une autre de leur taille."
   ]
  },
  {
   "cell_type": "markdown",
   "metadata": {},
   "source": [
    " "
   ]
  },
  {
   "cell_type": "code",
   "execution_count": 9,
   "metadata": {
    "execution": {
     "iopub.execute_input": "2021-11-13T13:13:36.982600Z",
     "iopub.status.busy": "2021-11-13T13:13:36.974174Z",
     "iopub.status.idle": "2021-11-13T13:13:37.021679Z",
     "shell.execute_reply": "2021-11-13T13:13:37.021171Z",
     "shell.execute_reply.started": "2021-11-13T13:06:17.449045Z"
    },
    "papermill": {
     "duration": 0.069847,
     "end_time": "2021-11-13T13:13:37.021847",
     "exception": false,
     "start_time": "2021-11-13T13:13:36.952000",
     "status": "completed"
    },
    "tags": []
   },
   "outputs": [
    {
     "data": {
      "text/html": [
       "<div>\n",
       "<style scoped>\n",
       "    .dataframe tbody tr th:only-of-type {\n",
       "        vertical-align: middle;\n",
       "    }\n",
       "\n",
       "    .dataframe tbody tr th {\n",
       "        vertical-align: top;\n",
       "    }\n",
       "\n",
       "    .dataframe thead th {\n",
       "        text-align: right;\n",
       "    }\n",
       "</style>\n",
       "<table border=\"1\" class=\"dataframe\">\n",
       "  <thead>\n",
       "    <tr style=\"text-align: right;\">\n",
       "      <th></th>\n",
       "      <th>Id</th>\n",
       "      <th>chemin</th>\n",
       "      <th>nom</th>\n",
       "      <th>taille</th>\n",
       "      <th>mode</th>\n",
       "    </tr>\n",
       "  </thead>\n",
       "  <tbody>\n",
       "    <tr>\n",
       "      <th>count</th>\n",
       "      <td>9912</td>\n",
       "      <td>9912</td>\n",
       "      <td>9912</td>\n",
       "      <td>9912</td>\n",
       "      <td>9912</td>\n",
       "    </tr>\n",
       "    <tr>\n",
       "      <th>unique</th>\n",
       "      <td>9912</td>\n",
       "      <td>9912</td>\n",
       "      <td>9912</td>\n",
       "      <td>1808</td>\n",
       "      <td>1</td>\n",
       "    </tr>\n",
       "    <tr>\n",
       "      <th>top</th>\n",
       "      <td>7954ebb5c90d9618e34959df0ad5f062</td>\n",
       "      <td>/kaggle/input/petfinder-pawpularity-score/trai...</td>\n",
       "      <td>7954ebb5c90d9618e34959df0ad5f062.jpg</td>\n",
       "      <td>(720, 960)</td>\n",
       "      <td>RGB</td>\n",
       "    </tr>\n",
       "    <tr>\n",
       "      <th>freq</th>\n",
       "      <td>1</td>\n",
       "      <td>1</td>\n",
       "      <td>1</td>\n",
       "      <td>3527</td>\n",
       "      <td>9912</td>\n",
       "    </tr>\n",
       "  </tbody>\n",
       "</table>\n",
       "</div>"
      ],
      "text/plain": [
       "                                      Id  \\\n",
       "count                               9912   \n",
       "unique                              9912   \n",
       "top     7954ebb5c90d9618e34959df0ad5f062   \n",
       "freq                                   1   \n",
       "\n",
       "                                                   chemin  \\\n",
       "count                                                9912   \n",
       "unique                                               9912   \n",
       "top     /kaggle/input/petfinder-pawpularity-score/trai...   \n",
       "freq                                                    1   \n",
       "\n",
       "                                         nom      taille  mode  \n",
       "count                                   9912        9912  9912  \n",
       "unique                                  9912        1808     1  \n",
       "top     7954ebb5c90d9618e34959df0ad5f062.jpg  (720, 960)   RGB  \n",
       "freq                                       1        3527  9912  "
      ]
     },
     "execution_count": 9,
     "metadata": {},
     "output_type": "execute_result"
    }
   ],
   "source": [
    "df.describe(include = \"object\")"
   ]
  },
  {
   "cell_type": "markdown",
   "metadata": {},
   "source": [
    "Toutes les photos sont en mode **RGB**"
   ]
  },
  {
   "cell_type": "markdown",
   "metadata": {},
   "source": [
    " "
   ]
  },
  {
   "cell_type": "markdown",
   "metadata": {
    "papermill": {
     "duration": 0.020022,
     "end_time": "2021-11-13T13:13:37.063489",
     "exception": false,
     "start_time": "2021-11-13T13:13:37.043467",
     "status": "completed"
    },
    "tags": []
   },
   "source": [
    "**Pawpularity Score**<br><br>Observons sa distribution par tranche de dix."
   ]
  },
  {
   "cell_type": "code",
   "execution_count": 10,
   "metadata": {
    "execution": {
     "iopub.execute_input": "2021-11-13T13:13:37.118017Z",
     "iopub.status.busy": "2021-11-13T13:13:37.117353Z",
     "iopub.status.idle": "2021-11-13T13:13:37.120805Z",
     "shell.execute_reply": "2021-11-13T13:13:37.121244Z",
     "shell.execute_reply.started": "2021-11-13T13:07:08.714130Z"
    },
    "papermill": {
     "duration": 0.037059,
     "end_time": "2021-11-13T13:13:37.121403",
     "exception": false,
     "start_time": "2021-11-13T13:13:37.084344",
     "status": "completed"
    },
    "tags": []
   },
   "outputs": [],
   "source": [
    "def paw_class_10(x):\n",
    "\n",
    "        if x > 89:\n",
    "            return \"9\"\n",
    "        \n",
    "        elif x > 79:\n",
    "            return \"8\"\n",
    "        \n",
    "        elif x > 69:\n",
    "            return \"7\"\n",
    "\n",
    "        elif x > 59:\n",
    "            return \"6\"\n",
    "        \n",
    "        elif x > 49:\n",
    "            return \"5\"\n",
    "\n",
    "        elif x > 39:\n",
    "            return \"4\"\n",
    "        \n",
    "        elif x > 29:\n",
    "            return \"3\"\n",
    "\n",
    "        elif x > 19:\n",
    "            return \"2\"\n",
    "        \n",
    "        elif x > 9:\n",
    "            return \"1\"\n",
    "        \n",
    "        else:\n",
    "            return \"0\"\n",
    "        \n",
    "df[\"dizaine\"] = df[\"Pawpularity\"].map(paw_class_10)"
   ]
  },
  {
   "cell_type": "code",
   "execution_count": 11,
   "metadata": {
    "execution": {
     "iopub.execute_input": "2021-11-13T13:13:37.210759Z",
     "iopub.status.busy": "2021-11-13T13:13:37.209684Z",
     "iopub.status.idle": "2021-11-13T13:13:37.333821Z",
     "shell.execute_reply": "2021-11-13T13:13:37.334274Z",
     "shell.execute_reply.started": "2021-11-13T13:08:05.639053Z"
    },
    "papermill": {
     "duration": 0.192948,
     "end_time": "2021-11-13T13:13:37.334448",
     "exception": false,
     "start_time": "2021-11-13T13:13:37.141500",
     "status": "completed"
    },
    "tags": []
   },
   "outputs": [
    {
     "data": {
      "image/png": "[encoded data removed]",
      "text/plain": [
       "<Figure size 432x288 with 1 Axes>"
      ]
     },
     "metadata": {},
     "output_type": "display_data"
    }
   ],
   "source": [
    "numbers = df[\"dizaine\"].value_counts()\n",
    "labels = df[\"dizaine\"].value_counts().index\n",
    "\n",
    "dico = {}\n",
    "\n",
    "for num, lab in zip(numbers, labels):\n",
    "\n",
    "    dico[lab] = num\n",
    "\n",
    "plt.pie([dico[k] for k in sorted(labels)], labels=sorted(labels))\n",
    "plt.title('Répartition des \"pawpularity score\" par dizaines.')\n",
    "plt.show()"
   ]
  },
  {
   "cell_type": "markdown",
   "metadata": {
    "papermill": {
     "duration": 0.021311,
     "end_time": "2021-11-13T13:13:37.377170",
     "exception": false,
     "start_time": "2021-11-13T13:13:37.355859",
     "status": "completed"
    },
    "tags": []
   },
   "source": [
    "La répartition des fourchettes de score est loin d'être équilibrée. Nous rajouterons donc une variable **dizaine** aux métadata qui classera les individus par tranche de score. Nous nous en servirons pour créer des échantillons **train** et **test** par tranche. Et éventuellement pour calculer des poids dont on pourrait se servir lors des modélisations."
   ]
  },
  {
   "cell_type": "markdown",
   "metadata": {
    "papermill": {
     "duration": 0.020881,
     "end_time": "2021-11-13T13:13:37.419323",
     "exception": false,
     "start_time": "2021-11-13T13:13:37.398442",
     "status": "completed"
    },
    "tags": []
   },
   "source": [
    "**FIN de la partie exploration**"
   ]
  },
  {
   "cell_type": "markdown",
   "metadata": {},
   "source": [
    " "
   ]
  }
 ],
 "metadata": {
  "kernelspec": {
   "display_name": "oc2",
   "language": "python",
   "name": "oc2"
  },
  "language_info": {
   "codemirror_mode": {
    "name": "ipython",
    "version": 3
   },
   "file_extension": ".py",
   "mimetype": "text/x-python",
   "name": "python",
   "nbconvert_exporter": "python",
   "pygments_lexer": "ipython3",
   "version": "3.8.5"
  },
  "papermill": {
   "default_parameters": {},
   "duration": 66.49843,
   "end_time": "2021-11-13T13:13:38.150890",
   "environment_variables": {},
   "exception": null,
   "input_path": "__notebook__.ipynb",
   "output_path": "__notebook__.ipynb",
   "parameters": {},
   "start_time": "2021-11-13T13:12:31.652460",
   "version": "2.3.3"
  }
 },
 "nbformat": 4,
 "nbformat_minor": 5
}
